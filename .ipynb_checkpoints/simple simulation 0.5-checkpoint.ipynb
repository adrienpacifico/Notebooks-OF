{
 "cells": [
  {
   "cell_type": "code",
   "execution_count": 1,
   "metadata": {
    "collapsed": true
   },
   "outputs": [],
   "source": [
    "%matplotlib inline\n",
    "import matplotlib.pyplot as plt\n",
    "#from openfisca_matplotlib import graphs\n",
    "import numpy as np\n",
    "np.set_printoptions(precision = 2, suppress=True)"
   ]
  },
  {
   "cell_type": "code",
   "execution_count": 2,
   "metadata": {
    "collapsed": false
   },
   "outputs": [
    {
     "name": "stdout",
     "output_type": "stream",
     "text": [
      "<class 'openfisca_france.TaxBenefitSystem'>\n"
     ]
    }
   ],
   "source": [
    "from datetime import date  # module nécessaire pour la définition des dates, dont notamment les dates de naissances\n",
    "from openfisca_core import web_tools\n",
    "import openfisca_france    # module décrivant le système socio-fiscal français\n",
    "from openfisca_france.tests import base\n",
    "#from modulation_allocations_familiales.reforms import af_modulation\n",
    "\n",
    "TaxBenefitSystem = openfisca_france.init_country()  # Initialisation de la classe décrivant le système socio-fiscal français\n",
    "print TaxBenefitSystem\n",
    "tax_benefit_system = TaxBenefitSystem()  # Création d'une instance du système socio-fiscal français"
   ]
  },
  {
   "cell_type": "code",
   "execution_count": 3,
   "metadata": {
    "collapsed": true
   },
   "outputs": [],
   "source": [
    "salaire_imposable_minimal = 0\n",
    "salaire_imposable_maximal = 200000\n",
    "count = 100\n",
    "year = 2015\n",
    "axes_variable = 'salaire_de_base'"
   ]
  },
  {
   "cell_type": "code",
   "execution_count": 4,
   "metadata": {
    "collapsed": true
   },
   "outputs": [],
   "source": [
    "def make_couple_avec_enfants_scenario(nombre_enfants = 2, year = 2014):\n",
    "    enfant = [dict(\n",
    "        birth = date(2005, 1, 1),\n",
    "        )]\n",
    "    enfants = enfant * nombre_enfants\n",
    "    scenario = tax_benefit_system.new_scenario().init_single_entity(\n",
    "        axes = [[\n",
    "            dict(\n",
    "                count = count,\n",
    "                min = 0,\n",
    "                max = salaire_imposable_maximal,\n",
    "                name = axes_variable,\n",
    "                period = year-2,\n",
    "                ),\n",
    "            dict(\n",
    "                count = count,\n",
    "                min = 0,\n",
    "                max = salaire_imposable_maximal,\n",
    "                name = axes_variable,\n",
    "                period = year-1,\n",
    "                ),\n",
    "            dict(\n",
    "                count = count,\n",
    "                min = 0,\n",
    "                max = salaire_imposable_maximal,\n",
    "                name = axes_variable,\n",
    "                period = year,\n",
    "                ),\n",
    "            ]],\n",
    "        period = year,\n",
    "        parent1 = dict(\n",
    "            birth = date(1980, 1, 1),\n",
    "            statmarit ={2012 : 5}, #pacsés\n",
    "            ),\n",
    "        parent2 = dict(\n",
    "            birth = date(1980, 1, 1),\n",
    "            statmarit = 5,\n",
    "            ),\n",
    "        menage = dict(\n",
    "            loyer = 1000,\n",
    "            statut_occupation = 4, #Locataire ou sous-locataire d'un logement loué vide non-HLM\n",
    "            ),\n",
    "        enfants = enfants,\n",
    "        \n",
    "        )\n",
    "    return scenario\n"
   ]
  },
  {
   "cell_type": "code",
   "execution_count": 5,
   "metadata": {
    "collapsed": true
   },
   "outputs": [],
   "source": [
    "simulation =  make_couple_avec_enfants_scenario(nombre_enfants = 2, year = 2014).new_simulation(debug = True, debug_all = True, trace = True)"
   ]
  },
  {
   "cell_type": "code",
   "execution_count": null,
   "metadata": {
    "collapsed": true
   },
   "outputs": [],
   "source": [
    "variables_a_generer = ['rsa','af','salaire_net', 'sali','br_pf','aide_logement',\n",
    "                       'revdisp', 'irpp','avantage_qf','impo' ]\n",
    "year = 2014"
   ]
  },
  {
   "cell_type": "code",
   "execution_count": null,
   "metadata": {
    "collapsed": false
   },
   "outputs": [],
   "source": [
    "simulation = dict()\n",
    "for nb_enf in range (0, 5):\n",
    "    simulation[nb_enf] =  make_couple_avec_enfants_scenario(nombre_enfants = nb_enf,year = year\n",
    "                                                           ).new_simulation(debug = True, \n",
    "                                                            debug_all = True, trace = True)\n",
    "simul_var = dict()\n",
    "for nb_enf, simul in simulation.iteritems():\n",
    "    temp = dict()\n",
    "    for var in variables_a_generer:\n",
    "        temp[var] = simul.calculate_add(var, year)\n",
    "    simul_var[nb_enf] = temp\n",
    "    \n",
    "    "
   ]
  },
  {
   "cell_type": "code",
   "execution_count": null,
   "metadata": {
    "collapsed": false
   },
   "outputs": [],
   "source": [
    "print make_couple_avec_enfants_scenario(nombre_enfants = 3 ,year = year\n",
    "                                                           ).new_simulation(debug = True, \n",
    "                                                            debug_all = True, trace = True).calculate_add(\n",
    "                                                            'salaire_net', year)[::5]\n",
    "\n",
    "print simul_var[3]['salaire_net'][::5]"
   ]
  }
 ],
 "metadata": {
  "kernelspec": {
   "display_name": "Python 2",
   "language": "python",
   "name": "python2"
  },
  "language_info": {
   "codemirror_mode": {
    "name": "ipython",
    "version": 2
   },
   "file_extension": ".py",
   "mimetype": "text/x-python",
   "name": "python",
   "nbconvert_exporter": "python",
   "pygments_lexer": "ipython2",
   "version": "2.7.9"
  }
 },
 "nbformat": 4,
 "nbformat_minor": 0
}
