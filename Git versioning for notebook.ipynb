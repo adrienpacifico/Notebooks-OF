{
 "cells": [
  {
   "cell_type": "code",
   "execution_count": 3,
   "metadata": {
    "collapsed": false
   },
   "outputs": [
    {
     "name": "stdout",
     "output_type": "stream",
     "text": [
      "---This notebook have been runed with--- \n",
      "Openfisca-france : 4abc9361383943c0cc2246667b2f69bb0b8c8d32 \n",
      "\n",
      "Commit short SHA: 4abc\n",
      "Branch:  next\n",
      "Date (y/m/d): 2015-07-24 14:50:08  \n",
      "\n",
      "Openfisca-core : b23e473bde7aca61eb54e75e182b7ba31af12c70  Date: 2015-07-24 12:57:25 \n"
     ]
    }
   ],
   "source": [
    "import git  #Requires Gitpython installed, to install do \"$ pip install Gitpython\" in your terminal\n",
    "import pkg_resources\n",
    "openfisca_france_location = pkg_resources.get_distribution('openfisca-france').location\n",
    "repo = git.Repo(openfisca_france_location)\n",
    "repo.git.status()\n",
    "\n",
    "sha = repo.head.object.hexsha\n",
    "\n",
    "print \"---This notebook have been runed with--- \\n\",\"Openfisca-france :\", repo.head.object.hexsha, '\\n' \n",
    "print \"Commit short SHA:\", repo.git.rev_parse(sha, short=4)\n",
    "print \"Branch: \", repo.git.rev_parse('--abbrev-ref', \"HEAD\") #equivalent to: $git rev-parse --abbrev-ref HEAD\n",
    "print \"Date (y/m/d):\", repo.git.show(\"-s\", '--format=%ci', 'HEAD^')[:-5],\"\\n\"  # equivalent to: $git show -s --format=%ci HEAD^\n",
    "\n",
    "print \"Openfisca-core :\", git.Repo(pkg_resources.get_distribution('openfisca-core').location).head.object.hexsha, ' Date:', git.Repo(pkg_resources.get_distribution('openfisca-core').location).git.show(\"-s\", '--format=%ci', 'HEAD^')[:-5]\n"
   ]
  },
  {
   "cell_type": "code",
   "execution_count": null,
   "metadata": {
    "collapsed": true
   },
   "outputs": [],
   "source": []
  }
 ],
 "metadata": {
  "kernelspec": {
   "display_name": "Python 2",
   "language": "python",
   "name": "python2"
  },
  "language_info": {
   "codemirror_mode": {
    "name": "ipython",
    "version": 2
   },
   "file_extension": ".py",
   "mimetype": "text/x-python",
   "name": "python",
   "nbconvert_exporter": "python",
   "pygments_lexer": "ipython2",
   "version": "2.7.10"
  }
 },
 "nbformat": 4,
 "nbformat_minor": 0
}
