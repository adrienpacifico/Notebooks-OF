{
 "cells": [
  {
   "cell_type": "code",
   "execution_count": 2,
   "metadata": {
    "collapsed": true
   },
   "outputs": [],
   "source": [
    "%matplotlib inline\n",
    "import matplotlib.pyplot as plt\n",
    "#from openfisca_matplotlib import graphs\n",
    "import numpy as np\n",
    "np.set_printoptions(precision = 2, suppress=True)"
   ]
  },
  {
   "cell_type": "code",
   "execution_count": 3,
   "metadata": {
    "collapsed": false
   },
   "outputs": [
    {
     "name": "stdout",
     "output_type": "stream",
     "text": [
      "<class 'openfisca_france.TaxBenefitSystem'>\n"
     ]
    }
   ],
   "source": [
    "from datetime import date  # module nécessaire pour la définition des dates, dont notamment les dates de naissances\n",
    "from openfisca_core import web_tools\n",
    "import openfisca_france    # module décrivant le système socio-fiscal français\n",
    "from openfisca_france.tests import base\n",
    "#from modulation_allocations_familiales.reforms import af_modulation\n",
    "\n",
    "TaxBenefitSystem = openfisca_france.init_country()  # Initialisation de la classe décrivant le système socio-fiscal français\n",
    "print TaxBenefitSystem\n",
    "tax_benefit_system = TaxBenefitSystem()  # Création d'une instance du système socio-fiscal français"
   ]
  },
  {
   "cell_type": "code",
   "execution_count": 4,
   "metadata": {
    "collapsed": true
   },
   "outputs": [],
   "source": [
    "salaire_imposable_minimal = 0\n",
    "salaire_imposable_maximal = 200000\n",
    "count = 100\n",
    "year = 2015\n",
    "axes_variable = 'salaire_de_base'"
   ]
  },
  {
   "cell_type": "code",
   "execution_count": 5,
   "metadata": {
    "collapsed": true
   },
   "outputs": [],
   "source": [
    "def make_couple_avec_enfants_scenario(nombre_enfants = 2, year = 2014):\n",
    "    enfant = [dict(\n",
    "        birth = date(2005, 1, 1),\n",
    "        )]\n",
    "    enfants = enfant * nombre_enfants\n",
    "    scenario = tax_benefit_system.new_scenario().init_single_entity(\n",
    "        axes = [[\n",
    "            dict(\n",
    "                count = count,\n",
    "                min = 0,\n",
    "                max = salaire_imposable_maximal,\n",
    "                name = axes_variable,\n",
    "                period = year-2,\n",
    "                ),\n",
    "            dict(\n",
    "                count = count,\n",
    "                min = 0,\n",
    "                max = salaire_imposable_maximal,\n",
    "                name = axes_variable,\n",
    "                period = year-1,\n",
    "                ),\n",
    "            dict(\n",
    "                count = count,\n",
    "                min = 0,\n",
    "                max = salaire_imposable_maximal,\n",
    "                name = axes_variable,\n",
    "                period = year,\n",
    "                ),\n",
    "            ]],\n",
    "        period = year,\n",
    "        parent1 = dict(\n",
    "            birth = date(1980, 1, 1),\n",
    "            statmarit ={2012 : 5}, #pacsés\n",
    "            ),\n",
    "        parent2 = dict(\n",
    "            birth = date(1980, 1, 1),\n",
    "            statmarit = 5,\n",
    "            ),\n",
    "        menage = dict(\n",
    "            loyer = 1000,\n",
    "            statut_occupation = 4, #Locataire ou sous-locataire d'un logement loué vide non-HLM\n",
    "            ),\n",
    "        enfants = enfants,\n",
    "        \n",
    "        )\n",
    "    return scenario\n"
   ]
  },
  {
   "cell_type": "code",
   "execution_count": 6,
   "metadata": {
    "collapsed": true
   },
   "outputs": [],
   "source": [
    "simulation =  make_couple_avec_enfants_scenario(nombre_enfants = 2, year = 2014).new_simulation(debug = True, debug_all = True, trace = True)"
   ]
  },
  {
   "cell_type": "code",
   "execution_count": 7,
   "metadata": {
    "collapsed": true
   },
   "outputs": [],
   "source": [
    "variables_a_generer = ['rsa','af','salaire_net', 'sali','br_pf','aide_logement',\n",
    "                       'revdisp', 'irpp','avantage_qf','impo' ]\n",
    "year = 2014"
   ]
  },
  {
   "cell_type": "code",
   "execution_count": 8,
   "metadata": {
    "collapsed": false
   },
   "outputs": [],
   "source": [
    "simulation = dict()\n",
    "for nb_enf in range (0, 5):\n",
    "    simulation[nb_enf] =  make_couple_avec_enfants_scenario(nombre_enfants = nb_enf,year = year\n",
    "                                                           ).new_simulation(debug = True, \n",
    "                                                            debug_all = True, trace = True)\n",
    "simul_var = dict()\n",
    "for nb_enf, simul in simulation.iteritems():\n",
    "    temp = dict()\n",
    "    for var in variables_a_generer:\n",
    "        temp[var] = simul.calculate_add(var, year)\n",
    "    simul_var[nb_enf] = temp\n",
    "    \n",
    "    "
   ]
  },
  {
   "cell_type": "code",
   "execution_count": 15,
   "metadata": {
    "collapsed": false
   },
   "outputs": [
    {
     "name": "stdout",
     "output_type": "stream",
     "text": [
      "[      0.       537.46    2398.87    4260.28    6121.69    7983.11\n",
      "    9844.53   11705.94   13567.35   15364.87   17072.04   18779.27\n",
      "   20486.47   22193.66   23900.86   25608.07   27315.29   29022.48\n",
      "   30729.7    32509.98   34359.53   36209.07   38058.62   39908.16\n",
      "   41757.72   43607.25   45456.8    47306.36   49155.9    51005.44\n",
      "   52854.98   54704.53   56554.09   58403.61   60253.17   62102.71\n",
      "   63952.27   65801.8    67651.34   69500.89   71350.43   73199.98\n",
      "   75049.52   76899.08   78748.62   80598.17   82447.7    84297.27\n",
      "   86146.79   87996.36   89845.89   91695.45   93544.97   95394.53\n",
      "   97244.07   99093.62  100943.52  102794.6   104645.66  106496.73\n",
      "  108347.79  110198.83  112049.89  113900.95  115752.02  117603.07\n",
      "  119454.14  121305.2   123156.26  125007.32  126858.24  128709.06\n",
      "  130559.91  132410.73  134261.53  136113.31  137965.58  139817.88\n",
      "  141670.12  143522.39  145374.66  147226.95  149079.2   150931.48\n",
      "  152783.75  154636.06  156488.3   158340.59  160192.88  162045.14\n",
      "  163897.41  165749.69  167601.95  169454.22  171306.48  173158.77\n",
      "  175011.05  176863.31  178715.58  180567.86]\n",
      "[      0.      -575.49    1285.92    3147.33    5008.74    6870.16\n",
      "    8731.58   10592.98   12454.41   14198.2    15775.74   17353.33\n",
      "   18930.91   20508.49   22086.06   23663.64   25241.21   26818.79\n",
      "   28396.36   30075.77   31850.3    33624.87   35399.39   37173.95\n",
      "   38948.5    40723.04   42497.59   44272.15   46046.68   47821.24\n",
      "   49595.77   51370.3    53144.86   54919.4    56693.95   58468.49\n",
      "   60243.05   62017.59   63792.14   65566.66   67341.23   69115.77\n",
      "   70890.32   72664.84   74439.41   76213.95   77988.5    79763.05\n",
      "   81537.6    83312.13   85086.67   86861.2    88635.77   90410.33\n",
      "   92184.86   93959.41   95743.95   97536.69   99329.42  101122.15\n",
      "  102914.88  104707.59  106500.32  108293.05  110085.8   111878.51\n",
      "  113671.23  115463.98  117256.7   119049.45  120842.01  122634.49\n",
      "  124426.97  126219.48  128015.27  129854.55  131692.94  133531.33\n",
      "  135369.7   137208.08  139046.45  140884.86  142723.22  144561.59  146400.\n",
      "  148238.39  150076.78  151915.16  153753.55  155591.92  157430.31\n",
      "  159268.7   161107.06  162945.45  164783.83  166622.23  168460.61\n",
      "  170299.02  172137.36  173975.77]\n"
     ]
    }
   ],
   "source": [
    "print make_couple_avec_enfants_scenario(nombre_enfants = 3 ,year = year\n",
    "                                                           ).new_simulation(debug = True, \n",
    "                                                            debug_all = True, trace = True).calculate_add(\n",
    "                                                            'salaire_net', year)[::5]\n",
    "\n",
    "print simul_var[3]['salaire_net'][::5]"
   ]
  }
 ],
 "metadata": {
  "kernelspec": {
   "display_name": "Python 2",
   "language": "python",
   "name": "python2"
  },
  "language_info": {
   "codemirror_mode": {
    "name": "ipython",
    "version": 2
   },
   "file_extension": ".py",
   "mimetype": "text/x-python",
   "name": "python",
   "nbconvert_exporter": "python",
   "pygments_lexer": "ipython2",
   "version": "2.7.9"
  }
 },
 "nbformat": 4,
 "nbformat_minor": 0
}
